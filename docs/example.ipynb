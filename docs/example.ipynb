{
 "cells": [
  {
   "cell_type": "markdown",
   "metadata": {},
   "source": [
    "# Example usage\n",
    "\n",
    "To use `pycredits` in a project:"
   ]
  },
  {
   "cell_type": "code",
   "execution_count": 1,
   "metadata": {},
   "outputs": [
    {
     "name": "stdout",
     "output_type": "stream",
     "text": [
      "0.1.0\n"
     ]
    }
   ],
   "source": [
    "import pycredits\n",
    "\n",
    "print(pycredits.__version__)"
   ]
  },
  {
   "cell_type": "markdown",
   "metadata": {},
   "source": [
    "## Imports"
   ]
  },
  {
   "cell_type": "code",
   "execution_count": 2,
   "metadata": {},
   "outputs": [],
   "source": [
    "from pycredits.data_preprocessing import preprocess_data\n",
    "from pycredits.column_histogram import column_histogram\n",
    "from pycredits.label_mapper import map_labels_to_binary\n",
    "from pycredits.param_grid import param_grid_for_grid_search\n",
    "import matplotlib.pyplot as plt\n",
    "import pandas as pd\n",
    "import numpy as np"
   ]
  },
  {
   "cell_type": "markdown",
   "metadata": {},
   "source": [
    "## Preprocess Data\n",
    "Let's preprocess a sample dataset containing information about credit risk:"
   ]
  },
  {
   "cell_type": "code",
   "execution_count": 3,
   "metadata": {},
   "outputs": [
    {
     "name": "stdout",
     "output_type": "stream",
     "text": [
      "X_transformed:\n",
      "   Feature_0  Feature_1  Feature_2  Feature_3  Feature_4  Feature_5  \\\n",
      "0  -1.246500  -1.305637   1.354260        1.0        0.0        0.0   \n",
      "1   1.319824   0.630589  -1.723603        0.0        1.0        0.0   \n",
      "2  -0.879883  -0.930295   0.123115        0.0        0.0        0.0   \n",
      "3   0.953206   1.412449  -0.150473        1.0        0.0        0.0   \n",
      "4  -0.146647   0.192894   0.396702        0.0        0.0        1.0   \n",
      "\n",
      "   Feature_6  Feature_7  Feature_8  Feature_9  Feature_10  Feature_11  \\\n",
      "0        0.0        0.0        0.0        1.0         0.0         0.0   \n",
      "1        0.0        1.0        0.0        0.0         0.0         0.0   \n",
      "2        1.0        0.0        0.0        1.0         0.0         1.0   \n",
      "3        0.0        1.0        0.0        0.0         0.0         0.0   \n",
      "4        0.0        0.0        1.0        0.0         1.0         0.0   \n",
      "\n",
      "   Feature_12  Feature_13  Feature_14  Feature_15  \n",
      "0         1.0         0.0         0.0         1.0  \n",
      "1         0.0         1.0         1.0         0.0  \n",
      "2         0.0         0.0         1.0         0.0  \n",
      "3         1.0         0.0         1.0         0.0  \n",
      "4         0.0         0.0         1.0         0.0  \n",
      "y:\n",
      "0    1\n",
      "1    2\n",
      "2    1\n",
      "3    1\n",
      "4    2\n",
      "Name: Credit_risk, dtype: int64\n",
      "preprocessor:\n",
      "ColumnTransformer(transformers=[('num', StandardScaler(),\n",
      "                                 ['Duration', 'Credit amount', 'Age']),\n",
      "                                ('cat', OneHotEncoder(handle_unknown='ignore'),\n",
      "                                 ['Status', 'Credit history', 'Purpose',\n",
      "                                  'Savings account'])])\n"
     ]
    }
   ],
   "source": [
    "df = pd.DataFrame({\n",
    "    \"Duration\": [6, 48, 12, 42, 24],\n",
    "    \"Credit amount\": [1169, 5951, 2096, 7882, 4870],\n",
    "    \"Age\": [67, 22, 49, 45, 53],\n",
    "    \"Status\": [\"A11\", \"A12\", \"A14\", \"A11\", \"A13\"],\n",
    "    \"Credit history\": [\"A34\", \"A32\", \"A34\", \"A32\", \"A33\"],\n",
    "    \"Purpose\": [\"A43\", \"A46\", \"A42\", \"A43\", \"A40\"],\n",
    "    \"Savings account\": [\"A65\", \"A61\", \"A61\", \"A61\", \"A61\"],\n",
    "    \"Credit_risk\": [1, 2, 1, 1, 2]\n",
    "})\n",
    "numeric_features = [\"Duration\", \"Credit amount\", \"Age\"]\n",
    "categorical_features = [\"Status\", \"Credit history\", \"Purpose\", \"Savings account\"]\n",
    "\n",
    "X_transformed, y, preprocessor = preprocess_data(df, numeric_features, categorical_features)\n",
    "X_transformed_df = pd.DataFrame(X_transformed, columns=[f\"Feature_{i}\" for i in range(X_transformed.shape[1])])\n",
    "\n",
    "print(\"X_transformed:\")\n",
    "print(X_transformed_df)\n",
    "\n",
    "print(\"y:\")\n",
    "print(y)\n",
    "\n",
    "print(\"preprocessor:\")\n",
    "print(preprocessor)"
   ]
  },
  {
   "cell_type": "markdown",
   "metadata": {},
   "source": [
    "## Create a Histogram\n",
    "We can create a histogram for a specific column in our dataset to visualize its distribution:"
   ]
  },
  {
   "cell_type": "code",
   "execution_count": 4,
   "metadata": {},
   "outputs": [
    {
     "data": {
      "image/png": "[encoded data removed]",
      "text/plain": [
       "<Figure size 800x500 with 1 Axes>"
      ]
     },
     "metadata": {},
     "output_type": "display_data"
    }
   ],
   "source": [
    "data_normal = pd.DataFrame({\n",
    "        'year': np.array([1901, 1902, 1903, 1904, 1905]),\n",
    "        'measure' : np.array([25, 25, 50, 50, 75]),\n",
    "    })\n",
    "column_plot = column_histogram(8,5,data_normal,'measure')\n",
    "plt.show()"
   ]
  },
  {
   "cell_type": "markdown",
   "metadata": {},
   "source": [
    "## Transform Labels\n",
    "\n",
    "We can transform label values to binary format:"
   ]
  },
  {
   "cell_type": "code",
   "execution_count": 5,
   "metadata": {},
   "outputs": [
    {
     "name": "stdout",
     "output_type": "stream",
     "text": [
      "Transformed y: [0 0 0]\n"
     ]
    }
   ],
   "source": [
    "y = np.array([1, 1, 1])\n",
    "y_transformed = map_labels_to_binary(y)\n",
    "print(\"Transformed y:\", y_transformed)"
   ]
  },
  {
   "cell_type": "markdown",
   "metadata": {},
   "source": [
    "## Create Parameter Grid for Grid Search\n",
    "Let's create a parameter grid for grid search to optimize our model hyperparameters"
   ]
  },
  {
   "cell_type": "code",
   "execution_count": 6,
   "metadata": {},
   "outputs": [
    {
     "name": "stdout",
     "output_type": "stream",
     "text": [
      "Parameter Grid:\n",
      "{'n_estimators': [100, 150, 200, 250, 300], 'max_depth': [1, 5, 10, 15, 20]}\n"
     ]
    }
   ],
   "source": [
    "n_estimators_range = [100, 150, 200, 250, 300]\n",
    "max_depth_range = [1, 5, 10, 15, 20]\n",
    "param_grid = param_grid_for_grid_search(n_estimators_range, max_depth_range)\n",
    "print(\"Parameter Grid:\")\n",
    "print(param_grid)"
   ]
  }
 ],
 "metadata": {
  "kernelspec": {
   "display_name": "Python 3 (ipykernel)",
   "language": "python",
   "name": "python3"
  },
  "language_info": {
   "codemirror_mode": {
    "name": "ipython",
    "version": 3
   },
   "file_extension": ".py",
   "mimetype": "text/x-python",
   "name": "python",
   "nbconvert_exporter": "python",
   "pygments_lexer": "ipython3",
   "version": "3.9.19"
  }
 },
 "nbformat": 4,
 "nbformat_minor": 4
}
